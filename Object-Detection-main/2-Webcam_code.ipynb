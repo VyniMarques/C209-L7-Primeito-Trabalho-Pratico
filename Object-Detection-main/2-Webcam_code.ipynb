{
 "cells": [
  {
   "cell_type": "code",
   "execution_count": 2,
   "id": "c87eea9b",
   "metadata": {},
   "outputs": [],
   "source": [
    "import matplotlib.pyplot as plt\n",
    "import numpy as np\n",
    "from PIL import Image\n",
    "import cv2 "
   ]
  },
  {
   "cell_type": "code",
   "execution_count": 3,
   "id": "75cec0fa",
   "metadata": {},
   "outputs": [],
   "source": [
    "import cv2 \n",
    "from matplotlib import pyplot as plt \n",
    "\n",
    "arqCasc1 = 'haarcascade_frontalface_default.xml'\n",
    "arqCasc2 = 'haarcascade_eye.xml'\n",
    "faceCascade1 = cv2.CascadeClassifier(arqCasc1) #classificador para o rosto\n",
    "faceCascade2 = cv2.CascadeClassifier(arqCasc2) #classificador para os olhos\n",
    "\n",
    "webcam = cv2.VideoCapture(0)  #instancia o uso da webcam\n",
    "\n",
    "while True:\n",
    "    s, imagem = webcam.read() #pega efeticamente a imagem da webcam\n",
    "    imagem = cv2.flip(imagem,180) #espelha a imagem\n",
    "\n",
    "    faces = faceCascade1.detectMultiScale(\n",
    "        imagem,\n",
    "        minNeighbors=20,\n",
    "        minSize=(30, 30),\n",
    "\tmaxSize=(300,300)\n",
    "    )\n",
    "\n",
    "    olhos = faceCascade2.detectMultiScale(\n",
    "        imagem,\n",
    "        minNeighbors=20,\n",
    "        minSize=(10, 10),\n",
    "\tmaxSize=(90,90)\n",
    "    )\n",
    "\n",
    "    # Desenha um retangulo nas faces e olhos detectados\n",
    "    for (x, y, w, h) in faces:\n",
    "        cv2.rectangle(imagem, (x, y), (x+w, y+h), (0, 255, 0), 4)\n",
    "\n",
    "    for (x, y, w, h) in olhos:\n",
    "        cv2.rectangle(imagem, (x, y), (x+w, y+h), (255, 0, 0), 2)\n",
    "\n",
    "    cv2.imshow('Video', imagem) #mostra a imagem captura na janela\n",
    "\n",
    "    #o trecho seguinte e apenas para parar o codigo e fechar a janela\n",
    "    if cv2.waitKey(1) & 0xFF == ord('q'):\n",
    "        break\n",
    "\n",
    "webcam.release() \n",
    "cv2.destroyAllWindows() #fecha todas a janelas abertas"
   ]
  }
 ],
 "metadata": {
  "kernelspec": {
   "display_name": "Python 3 (ipykernel)",
   "language": "python",
   "name": "python3"
  },
  "language_info": {
   "codemirror_mode": {
    "name": "ipython",
    "version": 3
   },
   "file_extension": ".py",
   "mimetype": "text/x-python",
   "name": "python",
   "nbconvert_exporter": "python",
   "pygments_lexer": "ipython3",
   "version": "3.10.6"
  }
 },
 "nbformat": 4,
 "nbformat_minor": 5
}
